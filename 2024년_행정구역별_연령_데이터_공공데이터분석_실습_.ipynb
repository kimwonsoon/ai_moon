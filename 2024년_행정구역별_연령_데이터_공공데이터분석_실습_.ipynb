{
  "nbformat": 4,
  "nbformat_minor": 0,
  "metadata": {
    "colab": {
      "provenance": [],
      "authorship_tag": "ABX9TyOUSPD59vBXh3VAGd9gTR63",
      "include_colab_link": true
    },
    "kernelspec": {
      "name": "python3",
      "display_name": "Python 3"
    },
    "language_info": {
      "name": "python"
    }
  },
  "cells": [
    {
      "cell_type": "markdown",
      "metadata": {
        "id": "view-in-github",
        "colab_type": "text"
      },
      "source": [
        "<a href=\"https://colab.research.google.com/github/kimwonsoon/ai_moon/blob/main/2024%EB%85%84_%ED%96%89%EC%A0%95%EA%B5%AC%EC%97%AD%EB%B3%84_%EC%97%B0%EB%A0%B9_%EB%8D%B0%EC%9D%B4%ED%84%B0_%EA%B3%B5%EA%B3%B5%EB%8D%B0%EC%9D%B4%ED%84%B0%EB%B6%84%EC%84%9D_%EC%8B%A4%EC%8A%B5_.ipynb\" target=\"_parent\"><img src=\"https://colab.research.google.com/assets/colab-badge.svg\" alt=\"Open In Colab\"/></a>"
      ]
    },
    {
      "cell_type": "code",
      "execution_count": 3,
      "metadata": {
        "id": "W3ryX_kqukh1"
      },
      "outputs": [],
      "source": [
        "import pandas as pd\n"
      ]
    },
    {
      "cell_type": "code",
      "source": [
        "data=pd.read_csv('/content/202402_202402_주민등록인구기타현황(평균연령)_월간.csv',encoding='cp949')"
      ],
      "metadata": {
        "id": "zpUiJdEtvD3B"
      },
      "execution_count": 5,
      "outputs": []
    },
    {
      "cell_type": "code",
      "source": [
        "print(data)"
      ],
      "metadata": {
        "colab": {
          "base_uri": "https://localhost:8080/"
        },
        "id": "rB_LHpB8xGOC",
        "outputId": "29350515-8969-49e9-e80c-a783de5bcacf"
      },
      "execution_count": 6,
      "outputs": [
        {
          "output_type": "stream",
          "name": "stdout",
          "text": [
            "                     행정구역  2024년02월_남자 평균연령  2024년02월_여자 평균연령  2024년02월_평균연령\n",
            "0        전국  (1000000000)              43.8              46.0           44.9\n",
            "1     서울특별시  (1100000000)              43.7              45.3           44.5\n",
            "2     부산광역시  (2600000000)              45.4              48.0           46.7\n",
            "3     대구광역시  (2700000000)              44.0              46.8           45.5\n",
            "4     인천광역시  (2800000000)              43.0              44.9           43.9\n",
            "5     광주광역시  (2900000000)              42.0              44.4           43.2\n",
            "6     대전광역시  (3000000000)              42.5              44.7           43.6\n",
            "7     울산광역시  (3100000000)              42.8              44.8           43.8\n",
            "8   세종특별자치시  (3600000000)              38.2              39.3           38.8\n",
            "9       경기도  (4100000000)              42.2              44.0           43.1\n",
            "10  강원특별자치도  (5100000000)              46.2              49.2           47.7\n",
            "11     충청북도  (4300000000)              44.6              47.3           45.9\n",
            "12     충청남도  (4400000000)              44.6              47.3           45.9\n",
            "13  전북특별자치도  (5200000000)              46.0              49.1           47.5\n",
            "14     전라남도  (4600000000)              46.9              50.4           48.6\n",
            "15     경상북도  (4700000000)              46.5              50.0           48.2\n",
            "16     경상남도  (4800000000)              44.6              47.6           46.1\n",
            "17  제주특별자치도  (5000000000)              43.0              45.3           44.2\n"
          ]
        }
      ]
    },
    {
      "cell_type": "code",
      "source": [],
      "metadata": {
        "id": "ZBK6VBTs2OOE"
      },
      "execution_count": null,
      "outputs": []
    },
    {
      "cell_type": "code",
      "source": [
        "print(type(data))"
      ],
      "metadata": {
        "colab": {
          "base_uri": "https://localhost:8080/"
        },
        "id": "z-qPSbAMxM67",
        "outputId": "d53b5267-8a61-4935-edd4-01e9738cc0f1"
      },
      "execution_count": 7,
      "outputs": [
        {
          "output_type": "stream",
          "name": "stdout",
          "text": [
            "<class 'pandas.core.frame.DataFrame'>\n"
          ]
        }
      ]
    },
    {
      "cell_type": "code",
      "source": [
        "print(data['2024년02월_평균연령'])"
      ],
      "metadata": {
        "colab": {
          "base_uri": "https://localhost:8080/"
        },
        "id": "JMHW5fnpxYoZ",
        "outputId": "90670e61-edab-4bac-aecf-7df107f9d911"
      },
      "execution_count": 9,
      "outputs": [
        {
          "output_type": "stream",
          "name": "stdout",
          "text": [
            "0     44.9\n",
            "1     44.5\n",
            "2     46.7\n",
            "3     45.5\n",
            "4     43.9\n",
            "5     43.2\n",
            "6     43.6\n",
            "7     43.8\n",
            "8     38.8\n",
            "9     43.1\n",
            "10    47.7\n",
            "11    45.9\n",
            "12    45.9\n",
            "13    47.5\n",
            "14    48.6\n",
            "15    48.2\n",
            "16    46.1\n",
            "17    44.2\n",
            "Name: 2024년02월_평균연령, dtype: float64\n"
          ]
        }
      ]
    },
    {
      "cell_type": "code",
      "source": [
        "print(data['2024년02월_평균연령'])"
      ],
      "metadata": {
        "colab": {
          "base_uri": "https://localhost:8080/"
        },
        "outputId": "72d0821b-e063-4c66-b601-9ba8ecadb794",
        "id": "kXByvX1Hypdx"
      },
      "execution_count": 11,
      "outputs": [
        {
          "output_type": "stream",
          "name": "stdout",
          "text": [
            "0     44.9\n",
            "1     44.5\n",
            "2     46.7\n",
            "3     45.5\n",
            "4     43.9\n",
            "5     43.2\n",
            "6     43.6\n",
            "7     43.8\n",
            "8     38.8\n",
            "9     43.1\n",
            "10    47.7\n",
            "11    45.9\n",
            "12    45.9\n",
            "13    47.5\n",
            "14    48.6\n",
            "15    48.2\n",
            "16    46.1\n",
            "17    44.2\n",
            "Name: 2024년02월_평균연령, dtype: float64\n"
          ]
        }
      ]
    },
    {
      "cell_type": "markdown",
      "source": [],
      "metadata": {
        "id": "0V2HEvb3v5YB"
      }
    },
    {
      "cell_type": "code",
      "source": [],
      "metadata": {
        "id": "H1kGW-qu0ORh"
      },
      "execution_count": null,
      "outputs": []
    },
    {
      "cell_type": "code",
      "source": [
        "print(data.iloc[data['2024년02월_평균연령'].idxmax()])"
      ],
      "metadata": {
        "id": "uVXqtVv1zkOo",
        "colab": {
          "base_uri": "https://localhost:8080/"
        },
        "outputId": "c33b0499-2a9c-450d-9956-f5bb5dc43183"
      },
      "execution_count": 13,
      "outputs": [
        {
          "output_type": "stream",
          "name": "stdout",
          "text": [
            "행정구역                전라남도  (4600000000)\n",
            "2024년02월_남자 평균연령                  46.9\n",
            "2024년02월_여자 평균연령                  50.4\n",
            "2024년02월_평균연령                     48.6\n",
            "Name: 14, dtype: object\n"
          ]
        }
      ]
    },
    {
      "cell_type": "code",
      "source": [
        "result=data['2024년02월_여자 평균연령']-data['2024년02월_남자 평균연령']"
      ],
      "metadata": {
        "id": "K7otcjPJ038x"
      },
      "execution_count": 19,
      "outputs": []
    },
    {
      "cell_type": "code",
      "source": [
        "print(result)"
      ],
      "metadata": {
        "colab": {
          "base_uri": "https://localhost:8080/"
        },
        "id": "lRuOLrpI2z7Z",
        "outputId": "daf5b158-cb9a-492f-dad0-881dedb08e8e"
      },
      "execution_count": 20,
      "outputs": [
        {
          "output_type": "stream",
          "name": "stdout",
          "text": [
            "0     2.2\n",
            "1     1.6\n",
            "2     2.6\n",
            "3     2.8\n",
            "4     1.9\n",
            "5     2.4\n",
            "6     2.2\n",
            "7     2.0\n",
            "8     1.1\n",
            "9     1.8\n",
            "10    3.0\n",
            "11    2.7\n",
            "12    2.7\n",
            "13    3.1\n",
            "14    3.5\n",
            "15    3.5\n",
            "16    3.0\n",
            "17    2.3\n",
            "dtype: float64\n"
          ]
        }
      ]
    },
    {
      "cell_type": "code",
      "source": [
        "print(result.idxmax())"
      ],
      "metadata": {
        "colab": {
          "base_uri": "https://localhost:8080/"
        },
        "id": "dcAM3Fs43O6Q",
        "outputId": "78693d62-5478-494d-f229-a20b036cb947"
      },
      "execution_count": 21,
      "outputs": [
        {
          "output_type": "stream",
          "name": "stdout",
          "text": [
            "14\n"
          ]
        }
      ]
    },
    {
      "cell_type": "code",
      "source": [
        "print(data.iloc[result.idxmax()])"
      ],
      "metadata": {
        "colab": {
          "base_uri": "https://localhost:8080/"
        },
        "id": "iHTupXN23cCF",
        "outputId": "45ca9e61-8c05-4d21-859c-8887cb5c18fb"
      },
      "execution_count": 23,
      "outputs": [
        {
          "output_type": "stream",
          "name": "stdout",
          "text": [
            "행정구역                전라남도  (4600000000)\n",
            "2024년02월_남자 평균연령                  46.9\n",
            "2024년02월_여자 평균연령                  50.4\n",
            "2024년02월_평균연령                     48.6\n",
            "Name: 14, dtype: object\n",
            "행정구역                전라남도  (4600000000)\n",
            "2024년02월_남자 평균연령                  46.9\n",
            "2024년02월_여자 평균연령                  50.4\n",
            "2024년02월_평균연령                     48.6\n",
            "Name: 14, dtype: object\n"
          ]
        }
      ]
    },
    {
      "cell_type": "code",
      "source": [],
      "metadata": {
        "id": "JwfvKsCV3qCY"
      },
      "execution_count": null,
      "outputs": []
    }
  ]
}